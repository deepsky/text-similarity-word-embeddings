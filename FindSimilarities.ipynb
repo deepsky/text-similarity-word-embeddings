{
 "cells": [
  {
   "cell_type": "code",
   "execution_count": 1,
   "metadata": {},
   "outputs": [],
   "source": [
    "import numpy as np\n",
    "import pandas as pd\n"
   ]
  },
  {
   "cell_type": "markdown",
   "metadata": {},
   "source": [
    "## Load Companies/Business patters datasets"
   ]
  },
  {
   "cell_type": "code",
   "execution_count": 4,
   "metadata": {},
   "outputs": [
    {
     "data": {
      "text/html": [
       "<div>\n",
       "<style scoped>\n",
       "    .dataframe tbody tr th:only-of-type {\n",
       "        vertical-align: middle;\n",
       "    }\n",
       "\n",
       "    .dataframe tbody tr th {\n",
       "        vertical-align: top;\n",
       "    }\n",
       "\n",
       "    .dataframe thead th {\n",
       "        text-align: right;\n",
       "    }\n",
       "</style>\n",
       "<table border=\"1\" class=\"dataframe\">\n",
       "  <thead>\n",
       "    <tr style=\"text-align: right;\">\n",
       "      <th></th>\n",
       "      <th>company name</th>\n",
       "      <th>description</th>\n",
       "      <th>patterns</th>\n",
       "      <th>len</th>\n",
       "    </tr>\n",
       "  </thead>\n",
       "  <tbody>\n",
       "    <tr>\n",
       "      <th>1</th>\n",
       "      <td>Skin Pixel</td>\n",
       "      <td>Skin Pixel uses novel gene therapy to create a...</td>\n",
       "      <td></td>\n",
       "      <td>117</td>\n",
       "    </tr>\n",
       "    <tr>\n",
       "      <th>2</th>\n",
       "      <td>REView Analytics</td>\n",
       "      <td>REview Analytics empowers real estate investor...</td>\n",
       "      <td></td>\n",
       "      <td>364</td>\n",
       "    </tr>\n",
       "    <tr>\n",
       "      <th>4</th>\n",
       "      <td>Kawsay</td>\n",
       "      <td>Kawsay is the platform that connects communiti...</td>\n",
       "      <td></td>\n",
       "      <td>616</td>\n",
       "    </tr>\n",
       "    <tr>\n",
       "      <th>6</th>\n",
       "      <td>Dormio</td>\n",
       "      <td>Dormio is a platform to interface with your dr...</td>\n",
       "      <td></td>\n",
       "      <td>483</td>\n",
       "    </tr>\n",
       "    <tr>\n",
       "      <th>7</th>\n",
       "      <td>Alight</td>\n",
       "      <td>Alight is an app that provides bus riders with...</td>\n",
       "      <td></td>\n",
       "      <td>295</td>\n",
       "    </tr>\n",
       "  </tbody>\n",
       "</table>\n",
       "</div>"
      ],
      "text/plain": [
       "       company name                                        description  \\\n",
       "1        Skin Pixel  Skin Pixel uses novel gene therapy to create a...   \n",
       "2  REView Analytics  REview Analytics empowers real estate investor...   \n",
       "4            Kawsay  Kawsay is the platform that connects communiti...   \n",
       "6            Dormio  Dormio is a platform to interface with your dr...   \n",
       "7            Alight  Alight is an app that provides bus riders with...   \n",
       "\n",
       "  patterns  len  \n",
       "1           117  \n",
       "2           364  \n",
       "4           616  \n",
       "6           483  \n",
       "7           295  "
      ]
     },
     "execution_count": 4,
     "metadata": {},
     "output_type": "execute_result"
    }
   ],
   "source": [
    "corps = pd.read_csv(\"test-task-companies.csv\", encoding = \"ISO-8859-1\", dtype=str) \n",
    "\n",
    "corps.fillna('', inplace=True)\n",
    "corps['len']=corps['Description'].apply(len)\n",
    "corps=corps[corps['len'] > 0]\n",
    "corps = corps.rename(str.lower, axis='columns')\n",
    "corps.head()"
   ]
  },
  {
   "cell_type": "code",
   "execution_count": 6,
   "metadata": {},
   "outputs": [
    {
     "data": {
      "text/html": [
       "<div>\n",
       "<style scoped>\n",
       "    .dataframe tbody tr th:only-of-type {\n",
       "        vertical-align: middle;\n",
       "    }\n",
       "\n",
       "    .dataframe tbody tr th {\n",
       "        vertical-align: top;\n",
       "    }\n",
       "\n",
       "    .dataframe thead th {\n",
       "        text-align: right;\n",
       "    }\n",
       "</style>\n",
       "<table border=\"1\" class=\"dataframe\">\n",
       "  <thead>\n",
       "    <tr style=\"text-align: right;\">\n",
       "      <th></th>\n",
       "      <th>#</th>\n",
       "      <th>pattern</th>\n",
       "      <th>description</th>\n",
       "      <th>len</th>\n",
       "    </tr>\n",
       "  </thead>\n",
       "  <tbody>\n",
       "    <tr>\n",
       "      <th>0</th>\n",
       "      <td>1</td>\n",
       "      <td>Add-on</td>\n",
       "      <td>Offer a basic product at a competitive price a...</td>\n",
       "      <td>74</td>\n",
       "    </tr>\n",
       "    <tr>\n",
       "      <th>1</th>\n",
       "      <td>2</td>\n",
       "      <td>Advertising model</td>\n",
       "      <td>Provide a product or service and mix it with a...</td>\n",
       "      <td>65</td>\n",
       "    </tr>\n",
       "    <tr>\n",
       "      <th>2</th>\n",
       "      <td>3</td>\n",
       "      <td>Advisors</td>\n",
       "      <td>Provide consulting and advice</td>\n",
       "      <td>29</td>\n",
       "    </tr>\n",
       "    <tr>\n",
       "      <th>3</th>\n",
       "      <td>4</td>\n",
       "      <td>Affiliation</td>\n",
       "      <td>Refer customers to a third party and receive a...</td>\n",
       "      <td>139</td>\n",
       "    </tr>\n",
       "    <tr>\n",
       "      <th>4</th>\n",
       "      <td>5</td>\n",
       "      <td>Affinity clubs</td>\n",
       "      <td>Partner with membership associations and other...</td>\n",
       "      <td>108</td>\n",
       "    </tr>\n",
       "  </tbody>\n",
       "</table>\n",
       "</div>"
      ],
      "text/plain": [
       "   #            pattern                                        description  \\\n",
       "0  1             Add-on  Offer a basic product at a competitive price a...   \n",
       "1  2  Advertising model  Provide a product or service and mix it with a...   \n",
       "2  3           Advisors                      Provide consulting and advice   \n",
       "3  4        Affiliation  Refer customers to a third party and receive a...   \n",
       "4  5     Affinity clubs  Partner with membership associations and other...   \n",
       "\n",
       "   len  \n",
       "0   74  \n",
       "1   65  \n",
       "2   29  \n",
       "3  139  \n",
       "4  108  "
      ]
     },
     "execution_count": 6,
     "metadata": {},
     "output_type": "execute_result"
    }
   ],
   "source": [
    "ptt = pd.read_csv(\"test-task-patterns.csv\", encoding = \"ISO-8859-1\", dtype=str) \n",
    "\n",
    "ptt.fillna('', inplace=True)\n",
    "ptt['len']=ptt['description'].apply(len)\n",
    "ptt=ptt[ptt['len'] > 2]\n",
    "ptt.head()"
   ]
  },
  {
   "cell_type": "markdown",
   "metadata": {},
   "source": [
    "## Display some arbitrary descriptions"
   ]
  },
  {
   "cell_type": "code",
   "execution_count": 11,
   "metadata": {},
   "outputs": [
    {
     "data": {
      "text/plain": [
       "\"REview Analytics empowers real estate investors to make better data-driven decisions. By anonymizing, aggregating, analyzing, and visualizing the projections of actual market participants, REview Analytics provides a new kind of real estate data: market intelligence that provides insight about the future, rather than merely reporting what's happened in the past.\""
      ]
     },
     "execution_count": 11,
     "metadata": {},
     "output_type": "execute_result"
    }
   ],
   "source": [
    "corps.loc[2,'description']"
   ]
  },
  {
   "cell_type": "code",
   "execution_count": 12,
   "metadata": {},
   "outputs": [
    {
     "data": {
      "text/plain": [
       "'Provide a product or service and mix it with advertising messages'"
      ]
     },
     "execution_count": 12,
     "metadata": {},
     "output_type": "execute_result"
    }
   ],
   "source": [
    "ptt.loc[1,'description']"
   ]
  },
  {
   "cell_type": "markdown",
   "metadata": {},
   "source": [
    "## Load lang models"
   ]
  },
  {
   "cell_type": "code",
   "execution_count": 22,
   "metadata": {},
   "outputs": [
    {
     "name": "stdout",
     "output_type": "stream",
     "text": [
      "Cell took 148.52 seconds to run.\n"
     ]
    }
   ],
   "source": [
    "from time import time\n",
    "start_nb = time()\n",
    "\n",
    "import spacy\n",
    "import gensim\n",
    "from gensim.models import Word2Vec\n",
    "\n",
    "start = time()\n",
    "# Load the large English NLP model\n",
    "nlp = spacy.load('en_core_web_lg')\n",
    "\n",
    "# Load Google news model\n",
    "model = gensim.models.KeyedVectors.load_word2vec_format('../DeDub/models/GoogleNews-vectors-negative300.bin.gz', binary=True)\n",
    "\n",
    "print('Cell took {:.2f} seconds to run.'.format(time() - start))"
   ]
  },
  {
   "cell_type": "markdown",
   "metadata": {},
   "source": [
    "## doc"
   ]
  },
  {
   "cell_type": "code",
   "execution_count": 27,
   "metadata": {},
   "outputs": [],
   "source": [
    "def levenshtein(s1, s2):\n",
    "    if len(s1) < len(s2):\n",
    "        return levenshtein(s2, s1)\n",
    "\n",
    "    # len(s1) >= len(s2)\n",
    "    if len(s2) == 0:\n",
    "        return len(s1)\n",
    "\n",
    "    previous_row = range(len(s2) + 1)\n",
    "    for i, c1 in enumerate(s1):\n",
    "        current_row = [i + 1]\n",
    "        for j, c2 in enumerate(s2):\n",
    "            insertions = previous_row[j + 1] + 1 \n",
    "            deletions = current_row[j] + 1       \n",
    "            substitutions = previous_row[j] + (c1 != c2)\n",
    "            current_row.append(min(insertions, deletions, substitutions))\n",
    "        previous_row = current_row\n",
    "    \n",
    "    return previous_row[-1]\n",
    "\n",
    "\n",
    "# Tokenizer user spaCy tokenizer under the hood\n",
    "# There is no need to remove stop words from corpus in case of word embeddings \n",
    "# otherwise it may impact performance\n",
    "def spacy_tokenize(text):\n",
    "    doc = nlp(text)\n",
    "    pattern = [w.text.lower() for w in doc]\n",
    "    return pattern \n",
    "\n",
    "# Company description tokenizer\n",
    "# A company description may contain a company name which is probably not existing in the model\n",
    "# so we need to replace a company name with something neutral like \"it\"\n",
    "def company_tokenize(corp_name, text):\n",
    "    out = []\n",
    "    for token in spacy_tokenize(text):\n",
    "        factor = (2*len(corp_name))/10\n",
    "        distance = levenshtein(token, corp_name.lower())\n",
    "        if distance <= factor:\n",
    "            out.append(\"it\")\n",
    "        else:\n",
    "            out.append(token)\n",
    "    \n",
    "    text2 = \" \".join(out)\n",
    "    doc = nlp(text2)\n",
    "\n",
    "    matches=[]\n",
    "    for chunk in doc.noun_chunks:\n",
    "        factor = (2*len(corp_name))/10\n",
    "        distance = levenshtein(chunk.text, corp_name.lower())\n",
    "        if distance <= factor:\n",
    "            matches.append(chunk.text)\n",
    "\n",
    "    for tt in matches:\n",
    "        text2 = text2.replace(tt, \"it\")\n",
    "    \n",
    "    return text2.split()\n",
    "\n",
    "\n",
    "def cross_distance(corps, corp_list, ptt):\n",
    "    df_ix = 0\n",
    "    corp_distances = pd.DataFrame(columns=['corp_ix', 'ptt_ix', 'distance'])\n",
    "    \n",
    "    for corp in corp_list:    \n",
    "        corp_name = corps.loc[corp,'company name']\n",
    "        text = corps.loc[corp,'description']\n",
    "        corp_desc = company_tokenizer(corp_name, text)\n",
    " \n",
    "        for idx in range(len(ptt)):\n",
    "            pattern = spacy_tokenize(ptt.loc[idx,'description'])\n",
    "\n",
    "            distance = model.wmdistance(corp_desc, pattern)\n",
    "            corp_distances.loc[df_ix, 'distance']=distance\n",
    "            corp_distances.loc[df_ix, 'corp_ix']=corp\n",
    "            corp_distances.loc[df_ix, 'ptt_ix']=idx\n",
    "            df_ix += 1\n",
    "\n",
    "    return corp_distances\n"
   ]
  },
  {
   "cell_type": "code",
   "execution_count": 39,
   "metadata": {},
   "outputs": [
    {
     "data": {
      "text/html": [
       "<div>\n",
       "<style scoped>\n",
       "    .dataframe tbody tr th:only-of-type {\n",
       "        vertical-align: middle;\n",
       "    }\n",
       "\n",
       "    .dataframe tbody tr th {\n",
       "        vertical-align: top;\n",
       "    }\n",
       "\n",
       "    .dataframe thead th {\n",
       "        text-align: right;\n",
       "    }\n",
       "</style>\n",
       "<table border=\"1\" class=\"dataframe\">\n",
       "  <thead>\n",
       "    <tr style=\"text-align: right;\">\n",
       "      <th></th>\n",
       "      <th>corp_ix</th>\n",
       "      <th>ptt_ix</th>\n",
       "      <th>distance</th>\n",
       "    </tr>\n",
       "  </thead>\n",
       "  <tbody>\n",
       "    <tr>\n",
       "      <th>0</th>\n",
       "      <td>1</td>\n",
       "      <td>0</td>\n",
       "      <td>3.5302</td>\n",
       "    </tr>\n",
       "    <tr>\n",
       "      <th>1</th>\n",
       "      <td>1</td>\n",
       "      <td>1</td>\n",
       "      <td>3.27175</td>\n",
       "    </tr>\n",
       "    <tr>\n",
       "      <th>2</th>\n",
       "      <td>1</td>\n",
       "      <td>2</td>\n",
       "      <td>3.81055</td>\n",
       "    </tr>\n",
       "    <tr>\n",
       "      <th>3</th>\n",
       "      <td>1</td>\n",
       "      <td>3</td>\n",
       "      <td>3.64481</td>\n",
       "    </tr>\n",
       "    <tr>\n",
       "      <th>4</th>\n",
       "      <td>1</td>\n",
       "      <td>4</td>\n",
       "      <td>3.56378</td>\n",
       "    </tr>\n",
       "  </tbody>\n",
       "</table>\n",
       "</div>"
      ],
      "text/plain": [
       "  corp_ix ptt_ix distance\n",
       "0       1      0   3.5302\n",
       "1       1      1  3.27175\n",
       "2       1      2  3.81055\n",
       "3       1      3  3.64481\n",
       "4       1      4  3.56378"
      ]
     },
     "execution_count": 39,
     "metadata": {},
     "output_type": "execute_result"
    }
   ],
   "source": [
    "corp_list = [1,2,4,6,7,9,11]\n",
    "\n",
    "# Uncomment line below to generate WMD distance for the whole company dataset\n",
    "# (may take time ~ several hours depending on machine)\n",
    "# corp_list = corps.index.tolist()\n",
    "\n",
    "corp_distances = cross_distance(corps, corp_list, ptt)  \n",
    "corp_distances.head()"
   ]
  },
  {
   "cell_type": "markdown",
   "metadata": {},
   "source": [
    "## Quick view on the distances"
   ]
  },
  {
   "cell_type": "code",
   "execution_count": 35,
   "metadata": {},
   "outputs": [
    {
     "name": "stdout",
     "output_type": "stream",
     "text": [
      "Corp: 1 ['323(3.0026)', '50(3.1089)', '116(3.1360)', '347(3.1365)', '187(3.1447)', '251(3.1507)', '333(3.1579)']\n",
      "Corp: 2 ['305(2.3515)', '210(2.3642)', '102(2.4573)', '348(2.4621)', '265(2.4640)', '86(2.4678)', '213(2.4720)']\n",
      "Corp: 4 ['293(2.4866)', '228(2.4929)', '205(2.5434)', '202(2.5461)', '161(2.5479)', '288(2.5530)', '210(2.5532)']\n",
      "Corp: 6 ['293(2.3788)', '164(2.4729)', '348(2.4851)', '210(2.5165)', '305(2.5440)', '86(2.5446)', '202(2.5462)']\n",
      "Corp: 7 ['293(2.2475)', '305(2.2724)', '164(2.3212)', '348(2.3594)', '228(2.3676)', '123(2.3687)', '323(2.3723)']\n",
      "Corp: 9 ['348(2.2720)', '288(2.5127)', '228(2.5165)', '291(2.5240)', '323(2.5257)', '265(2.5360)', '188(2.5509)']\n",
      "Corp: 11 ['348(2.3476)', '293(2.4084)', '188(2.4309)', '305(2.4367)', '187(2.5000)', '210(2.5101)', '291(2.5132)']\n"
     ]
    }
   ],
   "source": [
    "import re\n",
    "\n",
    "def convert_to_str(res):\n",
    "    lst = []\n",
    "    for idx, tp in enumerate(res.values):\n",
    "        lst.append(\"{}({:.4f})\".format(tp[0], tp[1]))\n",
    "            \n",
    "    return lst\n",
    "\n",
    "for corp in corp_list:\n",
    "    cd = corp_distances[corp_distances['corp_ix'] == corp]\n",
    "    res = cd[['ptt_ix', 'distance']].sort_values('distance').head(7)\n",
    "    print(\"Corp: {} {}\".format(corp, convert_to_str(res)))"
   ]
  },
  {
   "cell_type": "markdown",
   "metadata": {},
   "source": [
    "## Process cross-distance data frame leaving business patterns with the least distances"
   ]
  },
  {
   "cell_type": "code",
   "execution_count": 45,
   "metadata": {},
   "outputs": [
    {
     "data": {
      "text/html": [
       "<div>\n",
       "<style scoped>\n",
       "    .dataframe tbody tr th:only-of-type {\n",
       "        vertical-align: middle;\n",
       "    }\n",
       "\n",
       "    .dataframe tbody tr th {\n",
       "        vertical-align: top;\n",
       "    }\n",
       "\n",
       "    .dataframe thead th {\n",
       "        text-align: right;\n",
       "    }\n",
       "</style>\n",
       "<table border=\"1\" class=\"dataframe\">\n",
       "  <thead>\n",
       "    <tr style=\"text-align: right;\">\n",
       "      <th></th>\n",
       "      <th>corp_ix</th>\n",
       "      <th>ptt_ix</th>\n",
       "      <th>distance</th>\n",
       "    </tr>\n",
       "  </thead>\n",
       "  <tbody>\n",
       "    <tr>\n",
       "      <th>0</th>\n",
       "      <td>1</td>\n",
       "      <td>323</td>\n",
       "      <td>3.00263</td>\n",
       "    </tr>\n",
       "    <tr>\n",
       "      <th>1</th>\n",
       "      <td>1</td>\n",
       "      <td>50</td>\n",
       "      <td>3.10893</td>\n",
       "    </tr>\n",
       "    <tr>\n",
       "      <th>2</th>\n",
       "      <td>2</td>\n",
       "      <td>305</td>\n",
       "      <td>2.35155</td>\n",
       "    </tr>\n",
       "    <tr>\n",
       "      <th>3</th>\n",
       "      <td>2</td>\n",
       "      <td>210</td>\n",
       "      <td>2.36416</td>\n",
       "    </tr>\n",
       "    <tr>\n",
       "      <th>4</th>\n",
       "      <td>2</td>\n",
       "      <td>102</td>\n",
       "      <td>2.45731</td>\n",
       "    </tr>\n",
       "  </tbody>\n",
       "</table>\n",
       "</div>"
      ],
      "text/plain": [
       "  corp_ix ptt_ix distance\n",
       "0       1    323  3.00263\n",
       "1       1     50  3.10893\n",
       "2       2    305  2.35155\n",
       "3       2    210  2.36416\n",
       "4       2    102  2.45731"
      ]
     },
     "execution_count": 45,
     "metadata": {},
     "output_type": "execute_result"
    }
   ],
   "source": [
    "filtered_distances = pd.DataFrame(columns=['corp_ix', 'ptt_ix', 'distance'])\n",
    "\n",
    "rgrouped =corp_distances.groupby(['corp_ix', 'distance']).agg({'ptt_ix':sum})\n",
    "\n",
    "number_to_keep=6\n",
    "factor = 0.12\n",
    "i=0\n",
    "last_corp = -1\n",
    "nearest_distance = 0\n",
    "inside=0\n",
    "for index, row in rgrouped.iterrows():\n",
    "    (corp,distance)=index\n",
    "    ptt_ix = row['ptt_ix']\n",
    "    if ptt_ix != 348:\n",
    "        if last_corp != corp:\n",
    "            # New corp\n",
    "            filtered_distances.loc[i, ['corp_ix', 'ptt_ix', 'distance']] = (corp, ptt_ix, distance)\n",
    "            i+=1\n",
    "            nearest_distance=distance\n",
    "            last_corp = corp\n",
    "            inside=1\n",
    "        else:\n",
    "            if nearest_distance+factor >= distance and inside < number_to_keep:\n",
    "                inside +=1 \n",
    "                filtered_distances.loc[i, ['corp_ix', 'ptt_ix', 'distance']] = (corp, ptt_ix, distance)\n",
    "                i+=1\n",
    "\n",
    "filtered_distances.head()\n"
   ]
  },
  {
   "cell_type": "code",
   "execution_count": 46,
   "metadata": {},
   "outputs": [
    {
     "data": {
      "text/html": [
       "<div>\n",
       "<style scoped>\n",
       "    .dataframe tbody tr th:only-of-type {\n",
       "        vertical-align: middle;\n",
       "    }\n",
       "\n",
       "    .dataframe tbody tr th {\n",
       "        vertical-align: top;\n",
       "    }\n",
       "\n",
       "    .dataframe thead th {\n",
       "        text-align: right;\n",
       "    }\n",
       "</style>\n",
       "<table border=\"1\" class=\"dataframe\">\n",
       "  <thead>\n",
       "    <tr style=\"text-align: right;\">\n",
       "      <th></th>\n",
       "      <th></th>\n",
       "      <th>business patern</th>\n",
       "    </tr>\n",
       "    <tr>\n",
       "      <th>company name</th>\n",
       "      <th>distance</th>\n",
       "      <th></th>\n",
       "    </tr>\n",
       "  </thead>\n",
       "  <tbody>\n",
       "    <tr>\n",
       "      <th rowspan=\"6\" valign=\"top\">AdaViv</th>\n",
       "      <th>2.512701</th>\n",
       "      <td>Product-oriented Services</td>\n",
       "    </tr>\n",
       "    <tr>\n",
       "      <th>2.516467</th>\n",
       "      <td>Online waste exchange platform</td>\n",
       "    </tr>\n",
       "    <tr>\n",
       "      <th>2.523987</th>\n",
       "      <td>Result-oriented Services</td>\n",
       "    </tr>\n",
       "    <tr>\n",
       "      <th>2.525738</th>\n",
       "      <td>Video Comedy</td>\n",
       "    </tr>\n",
       "    <tr>\n",
       "      <th>2.535952</th>\n",
       "      <td>Co-Product Generation</td>\n",
       "    </tr>\n",
       "    <tr>\n",
       "      <th>2.550902</th>\n",
       "      <td>Endless aisles</td>\n",
       "    </tr>\n",
       "    <tr>\n",
       "      <th rowspan=\"3\" valign=\"top\">Alight</th>\n",
       "      <th>2.247532</th>\n",
       "      <td>Sharing Business</td>\n",
       "    </tr>\n",
       "    <tr>\n",
       "      <th>2.272433</th>\n",
       "      <td>Spreading the Word Offline</td>\n",
       "    </tr>\n",
       "    <tr>\n",
       "      <th>2.321220</th>\n",
       "      <td>Prosumers</td>\n",
       "    </tr>\n",
       "    <tr>\n",
       "      <th>Dormio</th>\n",
       "      <th>2.378754</th>\n",
       "      <td>Sharing Business</td>\n",
       "    </tr>\n",
       "  </tbody>\n",
       "</table>\n",
       "</div>"
      ],
      "text/plain": [
       "                                      business patern\n",
       "company name distance                                \n",
       "AdaViv       2.512701       Product-oriented Services\n",
       "             2.516467  Online waste exchange platform\n",
       "             2.523987        Result-oriented Services\n",
       "             2.525738                    Video Comedy\n",
       "             2.535952           Co-Product Generation\n",
       "             2.550902                  Endless aisles\n",
       "Alight       2.247532                Sharing Business\n",
       "             2.272433      Spreading the Word Offline\n",
       "             2.321220                       Prosumers\n",
       "Dormio       2.378754                Sharing Business"
      ]
     },
     "execution_count": 46,
     "metadata": {},
     "output_type": "execute_result"
    }
   ],
   "source": [
    "for idx in range(filtered_distances.shape[0]):\n",
    "    corp_idx = filtered_distances.loc[idx, 'corp_ix']\n",
    "    ptt_idx = filtered_distances.loc[idx, 'ptt_ix']\n",
    "    cname = str(corps.loc[corp_idx, 'company name'])\n",
    "    pattern = str(ptt.loc[ptt_idx, 'pattern'])\n",
    "    filtered_distances.loc[idx,'company name'] = cname\n",
    "    filtered_distances.loc[idx,'business patern'] = pattern\n",
    "\n",
    "\n",
    "filtered_distances.groupby(['company name', 'distance']).agg({'business patern':sum}).head(10)"
   ]
  },
  {
   "cell_type": "markdown",
   "metadata": {},
   "source": [
    "## Save company to business pattern matching in CSV file"
   ]
  },
  {
   "cell_type": "code",
   "execution_count": 47,
   "metadata": {},
   "outputs": [],
   "source": [
    "def convert_to_str(res):\n",
    "    lst = []\n",
    "    for idx, tp in enumerate(res.values):\n",
    "        lst.append(\"{}\".format(tp))\n",
    "            \n",
    "    return str(lst)[1:-1]\n",
    "\n",
    "corp_ptt_mappings = pd.DataFrame(columns=['corp_ix', 'company name', 'business patterns'])\n",
    "\n",
    "i= 0\n",
    "for corp in corp_list:\n",
    "    res = filtered_distances[filtered_distances['corp_ix'] == corp]['business patern']\n",
    "    corp_ptt_mappings.loc[i, ['corp_ix', 'company name', 'business patterns']] = \\\n",
    "            (corp, corps.loc[corp, 'company name'], convert_to_str(res))\n",
    "    i +=1\n",
    "    \n",
    "corp_ptt_mappings.to_csv(\"company-pattern-matching.csv\", index=False)    \n"
   ]
  },
  {
   "cell_type": "code",
   "execution_count": null,
   "metadata": {},
   "outputs": [],
   "source": []
  }
 ],
 "metadata": {
  "kernelspec": {
   "display_name": "Python 3",
   "language": "python",
   "name": "python3"
  },
  "language_info": {
   "codemirror_mode": {
    "name": "ipython",
    "version": 3
   },
   "file_extension": ".py",
   "mimetype": "text/x-python",
   "name": "python",
   "nbconvert_exporter": "python",
   "pygments_lexer": "ipython3",
   "version": "3.6.3"
  }
 },
 "nbformat": 4,
 "nbformat_minor": 2
}
